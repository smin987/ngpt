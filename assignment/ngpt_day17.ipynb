{
 "cells": [
  {
   "cell_type": "code",
   "execution_count": null,
   "metadata": {},
   "outputs": [],
   "source": [
    "from typing import Type\n",
    "from langchain.tools import BaseTool\n",
    "from langchain.chat_models import ChatOpenAI\n",
    "from langchain.utilities import DuckDuckGoSearchAPIWrapper, WikipediaAPIWrapper\n",
    "from pydantic import BaseModel, Field\n",
    "from langchain.tools import DuckDuckGoSearchRun, WikipediaQueryRun\n",
    "from langchain.agents import Tool, AgentType, initialize_agent\n",
    "\n",
    "llm = ChatOpenAI(\n",
    "                temperature=0.1,\n",
    "                model=\"gpt-4o-mini\",\n",
    "                )\n",
    "\n",
    "class WebsiteSearchToolArgsSchema(BaseModel):\n",
    "    query: str = Field(description=\"The query to search for\")\n",
    "\n",
    "class WebsiteSearchTool(BaseTool):\n",
    "    name = \"WebsiteSearchTool\"\n",
    "    description = \"\"\"\n",
    "    Search the websites related to your query, \n",
    "    find the most accurate information among them, and organize it.\n",
    "    \"\"\"\n",
    "    args_schema : Type[WebsiteSearchToolArgsSchema] = WebsiteSearchToolArgsSchema\n",
    "\n",
    "    def _run(self, query):\n",
    "        ddg = DuckDuckGoSearchAPIWrapper()\n",
    "        return ddg.run(query)\n",
    "\n",
    "agent = initialize_agent(\n",
    "    llm=llm,\n",
    "    verbose=True,\n",
    "    agent=AgentType.OPENAI_FUNCTIONS,\n",
    "    tools=[\n",
    "        WebsiteSearchTool(),\n",
    "    ],\n",
    ")\n",
    "\n",
    "prompt = \"openai의 요금제에 대해서 조사해줘\"\n",
    "\n",
    "agent.invoke(prompt)\n",
    "\n",
    "\n"
   ]
  },
  {
   "cell_type": "code",
   "execution_count": 5,
   "metadata": {},
   "outputs": [
    {
     "data": {
      "text/plain": [
       "'Page: Hunter × Hunter\\nSummary: Hunter × Hunter (pronounced \"hunter hunter\") is a Japanese manga series written and illustrated by Yoshihiro Togashi. It has been serialized in Shueisha\\'s shōnen manga magazine Weekly Shōnen Jump since March 1998, although the manga has frequently gone on extended hiatuses since 2006. Its chapters have been collected in 38 tankōbon volumes as of September 2024. The story focuses on a young boy named Gon Freecss who discovers that his father, who left him at a young age, is actually a world-renowned Hunter, a licensed professional who specializes in fantastical pursuits such as locating rare or unidentified animal species, treasure hunting, surveying unexplored enclaves, or hunting down lawless individuals. Gon departs on a journey to become a Hunter and eventually find his father. Along the way, Gon meets various other Hunters and encounters the paranormal.\\nHunter × Hunter was adapted into a 62-episode anime television series by Nippon Animation and directed by Kazuhiro Furuhashi, which ran on Fuji Television from October 1999 to March 2001. Three separate original video animations (OVAs) totaling 30 episodes were subsequently produced by Nippon Animation and released in Japan from 2002 to 2004. A second anime television series by Madhouse aired on Nippon Television from October 2011 to September 2014, totaling 148 episodes, with two animated theatrical films released in 2013. There are also numerous audio albums, video games, musicals, and other media based on Hunter × Hunter.\\nThe manga has been licensed for English release in North America by Viz Media since April 2005. Both television series have been also licensed by Viz Media, with the first series having aired on the Funimation Channel in 2009 and the second series broadcast on Adult Swim\\'s Toonami programming block from April 2016 to June 2019.\\nHunter × Hunter has been a huge critical and financial success and has become one of the best-selling manga series of all time, having over 84 million copies in circulation by July 2022.\\n\\n\\n\\nPage: List of Hunter × Hunter characters\\nSummary: The Hunter × Hunter manga series, created by Yoshihiro Togashi, features an extensive cast of characters. Such as Shihad Gandhi. It takes place in a fictional universe where licensed specialists known as Hunters travel the world taking on special jobs ranging from treasure hunting to assassination. The story initially focuses on Gon Freecss and his quest to become a Hunter in order to find his father, Ging, who is himself a famous Hunter. On the way, Gon meets and becomes close friends with Killua Zoldyck, Kurapika and Leorio Paradinight.\\nAlthough most characters are human, most possess superhuman strength and/or supernatural abilities due to Nen, the ability to control one\\'s own life energy or aura. The world of the series also includes fantastical beasts such as the Chimera Ants or the Five great calamities.\\n\\nPage: Kraven the Hunter\\nSummary: Kraven the Hunter (Sergei Nikolaevich Kravinoff; Russian: Сергей Николаевич Кравинов) is a supervillain appearing in American comic books published by Marvel Comics. Created by writer Stan Lee and artist Steve Ditko, the character first appeared in The Amazing Spider-Man #15 (August 1964) as an adversary for the superhero Spider-Man. He since endured as one of the web-slinger\\'s most formidable foes, and is part of the collective of adversaries that make up Spider-Man\\'s rogues\\' gallery. Kraven has also come into conflict with other heroes, such as Black Panther and Tigra. He is the half-brother of the Chameleon and is one of the founding members of the Sinister Six.\\nIn Kraven\\'s first appearance, he calls Spider-Man \"the most dangerous game\", a direct reference to the 1924 short story of the same name, in which General Zaroff, a Russian big-game hunter (and a primary inspiration for the character), hunts people for sport.\\nKraven is typically portrayed as a renowned big-game hunter whose goal in life is to beat Spider-Man to pr'"
      ]
     },
     "execution_count": 5,
     "metadata": {},
     "output_type": "execute_result"
    }
   ],
   "source": [
    "from langchain.utilities import DuckDuckGoSearchAPIWrapper, WikipediaAPIWrapper\n",
    "from langchain.tools import DuckDuckGoSearchRun, WikipediaQueryRun\n",
    "\n",
    "wikipedia = WikipediaQueryRun(api_wrapper=WikipediaAPIWrapper())\n",
    "\n",
    "wikipedia.run(\"HUNTER X HUNTER\")"
   ]
  },
  {
   "cell_type": "code",
   "execution_count": null,
   "metadata": {},
   "outputs": [
    {
     "data": {
      "text/plain": [
       "''"
      ]
     },
     "execution_count": 48,
     "metadata": {},
     "output_type": "execute_result"
    }
   ],
   "source": [
    "from langchain.utilities import DuckDuckGoSearchAPIWrapper, WikipediaAPIWrapper\n",
    "from langchain.tools import DuckDuckGoSearchResults\n",
    "\n",
    "wrapper = DuckDuckGoSearchAPIWrapper(\n",
    "    region=\"wt-wt\", # 전체 wt-wt, 미국 us-en, 한국 kr-kr\n",
    "    time=\"d\", \n",
    "    max_results=2,\n",
    "    )\n",
    "search = DuckDuckGoSearchResults(api_wrapper=wrapper, source=\"news\")\n",
    "\n",
    "search.run(\"화이자 비만\")"
   ]
  },
  {
   "cell_type": "code",
   "execution_count": null,
   "metadata": {},
   "outputs": [],
   "source": []
  }
 ],
 "metadata": {
  "kernelspec": {
   "display_name": "ngpt",
   "language": "python",
   "name": "python3"
  },
  "language_info": {
   "codemirror_mode": {
    "name": "ipython",
    "version": 3
   },
   "file_extension": ".py",
   "mimetype": "text/x-python",
   "name": "python",
   "nbconvert_exporter": "python",
   "pygments_lexer": "ipython3",
   "version": "3.11.8"
  }
 },
 "nbformat": 4,
 "nbformat_minor": 2
}
