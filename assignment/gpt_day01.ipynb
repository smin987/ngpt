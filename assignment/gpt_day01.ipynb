{
 "cells": [
  {
   "cell_type": "code",
   "execution_count": null,
   "metadata": {},
   "outputs": [],
   "source": [
    "from langchain.chat_models import ChatOpenAI\n",
    "from langchain.prompts import ChatPromptTemplate\n",
    "from langchain.callbacks import StreamingStdOutCallbackHandler\n",
    "\n",
    "chat = ChatOpenAI(\n",
    "    temperature=0.1, streaming=True, callbacks=[StreamingStdOutCallbackHandler()]\n",
    ")\n",
    "\n",
    "writer_prompt = ChatPromptTemplate.from_messages(\n",
    "    [\n",
    "        (\n",
    "            \"system\",\n",
    "            \"You are a famous Japanese Haiku writer. You are given a specific topic and you write a haiku that fits it. Use words that include seasonal characteristics that fit the 'topic' and describe it vividly. Please write it in words that ordinary people usually use so that everyone can easily understand it. Displays 'Commentator:' at the end of the text.\",\n",
    "        ),\n",
    "        (\"human\", \"{topic}\"),\n",
    "    ]\n",
    ")\n",
    "\n",
    "writer_ch = writer_prompt | chat\n",
    "\n",
    "# writer_ch.invoke({\"topic\": \"heartful moments\"})"
   ]
  },
  {
   "cell_type": "code",
   "execution_count": 28,
   "metadata": {},
   "outputs": [
    {
     "name": "stdout",
     "output_type": "stream",
     "text": [
      "Cherry blossoms fall,\n",
      "Whispers carried by the wind,\n",
      "Love blooms in springtime.\n",
      "\n",
      "- Explainer: The haiku describes the feeling of love using the imagery of cherry blossoms falling in spring, symbolizing the beauty and fleeting nature of love.In this haiku, the delicate cherry blossoms falling represent the ephemeral nature of love. Just like the blossoms that bloom in the spring and eventually drift away with the wind, love too can be fleeting and transient. The whispers carried by the wind evoke a sense of intimacy and secrecy, as if love is a whispered secret shared between two hearts. The imagery of love blooming in springtime captures the essence of new beginnings and fresh starts, much like the blossoming of flowers after a long winter.\n",
      "\n",
      "The author seems to be reflecting on the beauty and fragility of love, acknowledging its transient nature while also celebrating its ability to bloom and flourish in the most unexpected of places. There is a sense of wonder and awe in the face of love's unpredictable and enchanting presence, much like the unpredictable beauty of cherry blossoms in full bloom."
     ]
    },
    {
     "data": {
      "text/plain": [
       "AIMessageChunk(content=\"In this haiku, the delicate cherry blossoms falling represent the ephemeral nature of love. Just like the blossoms that bloom in the spring and eventually drift away with the wind, love too can be fleeting and transient. The whispers carried by the wind evoke a sense of intimacy and secrecy, as if love is a whispered secret shared between two hearts. The imagery of love blooming in springtime captures the essence of new beginnings and fresh starts, much like the blossoming of flowers after a long winter.\\n\\nThe author seems to be reflecting on the beauty and fragility of love, acknowledging its transient nature while also celebrating its ability to bloom and flourish in the most unexpected of places. There is a sense of wonder and awe in the face of love's unpredictable and enchanting presence, much like the unpredictable beauty of cherry blossoms in full bloom.\")"
      ]
     },
     "execution_count": 28,
     "metadata": {},
     "output_type": "execute_result"
    }
   ],
   "source": [
    "commentator_prompt = ChatPromptTemplate.from_messages(\n",
    "    [\n",
    "        (\n",
    "            \"system\",\n",
    "            \"You are a renowned Haiku commentator. You can read a Haiku and explain its meaning well using metaphorical examples. You add your own commentary to explain the author's feelings and current emotions, and the content, so that the general public can easily understand it.\",\n",
    "        ),\n",
    "        (\"human\", \"{Haiku}\"),\n",
    "    ]\n",
    ")\n",
    "\n",
    "commentator_ch = commentator_prompt | chat\n",
    "\n",
    "final_chain = {\"Haiku\": writer_ch} | commentator_ch\n",
    "\n",
    "final_chain.invoke({\"topic\": \"I love you\"})"
   ]
  }
 ],
 "metadata": {
  "kernelspec": {
   "display_name": "ngpt",
   "language": "python",
   "name": "python3"
  },
  "language_info": {
   "codemirror_mode": {
    "name": "ipython",
    "version": 3
   },
   "file_extension": ".py",
   "mimetype": "text/x-python",
   "name": "python",
   "nbconvert_exporter": "python",
   "pygments_lexer": "ipython3",
   "version": "3.11.8"
  }
 },
 "nbformat": 4,
 "nbformat_minor": 2
}
