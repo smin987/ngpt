{
 "cells": [
  {
   "cell_type": "code",
   "execution_count": 4,
   "metadata": {},
   "outputs": [
    {
     "name": "stdout",
     "output_type": "stream",
     "text": [
      "AI:\n",
      "        I know this:\n",
      "        Director: Steven Spielberg\n",
      "        Starring: Tom Hanks, Matt Damon, Tom Sizemore\n",
      "        Budget: $70 million\n",
      "        Box office: $482.3 million\n",
      "        Genre : War, Drama\n",
      "        synopsis: Following the Normandy landings, a group of soldiers set out to find and bring home Private James Ryan, whose three brothers have been killed in action during World War II."
     ]
    },
    {
     "data": {
      "text/plain": [
       "AIMessageChunk(content='AI:\\n        I know this:\\n        Director: Steven Spielberg\\n        Starring: Tom Hanks, Matt Damon, Tom Sizemore\\n        Budget: $70 million\\n        Box office: $482.3 million\\n        Genre : War, Drama\\n        synopsis: Following the Normandy landings, a group of soldiers set out to find and bring home Private James Ryan, whose three brothers have been killed in action during World War II.')"
      ]
     },
     "execution_count": 4,
     "metadata": {},
     "output_type": "execute_result"
    }
   ],
   "source": [
    "from langchain.chat_models import ChatOpenAI\n",
    "from langchain.prompts.few_shot import FewShotPromptTemplate\n",
    "from langchain.prompts.prompt import PromptTemplate\n",
    "from langchain.callbacks import StreamingStdOutCallbackHandler\n",
    "\n",
    "chat = ChatOpenAI(\n",
    "    temperature=0.1,\n",
    "    streaming=True,\n",
    "    callbacks=[\n",
    "        StreamingStdOutCallbackHandler(),\n",
    "    ],\n",
    ")\n",
    "\n",
    "examples = [\n",
    "    {\n",
    "        \"question\": \"What do you know about Movie Titanic?\",\n",
    "        \"answer\": \"\"\"\n",
    "        Here is what I know:\n",
    "        Director: James Cameron\n",
    "        Starring: FrLeonardo DiCaprio, Kate Winslet, Billy Zane\n",
    "        Budget: $200 million\n",
    "        Box office: $2.264 billion\n",
    "        Genre : Drama, Romance\n",
    "        synopsis:A treasure hunt for the “Heart of the Ocean” necklace leads to a survivor’s tale of forbidden love and the Titanic’s sinking, ending with the necklace’s release into the sea.\n",
    "        \"\"\",\n",
    "    },\n",
    "    {\n",
    "        \"question\": \"What do you know about Movie Iron Man?\",\n",
    "        \"answer\": \"\"\"\n",
    "        I know this:\n",
    "        Director: Jon Favreau\n",
    "        Starring: Robert Downey Jr., Gwyneth Paltrow, Terrence Howard\n",
    "        Budget: $140 million\n",
    "        Box office: $585.8 million\n",
    "        Genre : Sci-Fi, Action\n",
    "        synopsis:Captured in Iraq, injured Tony Stark builds a makeshift armored suit to escape. Back home, he perfects the suit (Iron Man) while battling a corporate takeover of his company.\n",
    "        \"\"\",\n",
    "    },\n",
    "    {\n",
    "        \"question\": \"What do you know about Movie Titanic?\",\n",
    "        \"answer\": \"\"\"\n",
    "        I know this:\n",
    "        Director: The Wachowskis\n",
    "        Starring: Keanu Reeves, Laurence Fishburne, Carrie-Anne Moss\n",
    "        Budget: $63 million\n",
    "        Box office: $467.6 million\n",
    "        Genre : Sci-Fi, Action\n",
    "        synopsis: A computer programmer, secretly a hacker named Neo, discovers his reality is a simulated world controlled by machines, and joins rebels fighting for freedom.\n",
    "        \"\"\",\n",
    "    },\n",
    "]\n",
    "\n",
    "example_prompt = PromptTemplate.from_template(\"Human:{question}\\nAI:{answer}\")\n",
    "\n",
    "prompt = FewShotPromptTemplate(\n",
    "    example_prompt=example_prompt,\n",
    "    examples=examples,\n",
    "    suffix=\"Human: What do you know about Movie {title}?\",\n",
    "    input_variables=[\"title\"],\n",
    ")\n",
    "\n",
    "chain = prompt | chat\n",
    "\n",
    "chain.invoke({\"title\": \"saving private ryan\"})"
   ]
  }
 ],
 "metadata": {
  "kernelspec": {
   "display_name": "ngpt",
   "language": "python",
   "name": "python3"
  },
  "language_info": {
   "codemirror_mode": {
    "name": "ipython",
    "version": 3
   },
   "file_extension": ".py",
   "mimetype": "text/x-python",
   "name": "python",
   "nbconvert_exporter": "python",
   "pygments_lexer": "ipython3",
   "version": "3.11.8"
  }
 },
 "nbformat": 4,
 "nbformat_minor": 2
}
