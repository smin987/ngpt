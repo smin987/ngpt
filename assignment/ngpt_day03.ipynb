{
 "cells": [
  {
   "cell_type": "code",
   "execution_count": 24,
   "metadata": {},
   "outputs": [
    {
     "name": "stdout",
     "output_type": "stream",
     "text": [
      "content='The Lion King -> 🦁👑🎶'\n"
     ]
    }
   ],
   "source": [
    "from langchain.memory import ConversationSummaryBufferMemory\n",
    "from langchain.chat_models import ChatOpenAI\n",
    "from langchain.schema.runnable import RunnablePassthrough\n",
    "from langchain.prompts import (\n",
    "    ChatPromptTemplate,\n",
    "    MessagesPlaceholder,\n",
    "    FewShotChatMessagePromptTemplate,\n",
    ")\n",
    "\n",
    "llm = ChatOpenAI(temperature=0.1)\n",
    "\n",
    "memory = ConversationSummaryBufferMemory(\n",
    "    llm=llm,\n",
    "    max_token_limit=80,\n",
    "    return_messages=True,\n",
    ")\n",
    "\n",
    "examples = [\n",
    "    {\n",
    "        \"question\": \"What do you know about Movie Titanic?\",\n",
    "        \"answer\": \"\"\"\n",
    "        Titanic -> 🛳️💑😢\n",
    "        \"\"\",\n",
    "    },\n",
    "    {\n",
    "        \"question\": \"What do you know about Movie The Godfather?\",\n",
    "        \"answer\": \"\"\"\n",
    "        The Godfather -> 👨‍👨‍👦🔫🍝\n",
    "        \"\"\",\n",
    "    },\n",
    "    {\n",
    "        \"question\": \"What do you know about Movie Top Gun?\",\n",
    "        \"answer\": \"\"\"\n",
    "        Top Gun -> 🛩️👨‍✈️🔥\n",
    "        \"\"\",\n",
    "    },\n",
    "]\n",
    "\n",
    "template = [\n",
    "    (\"human\", \"{question}\"),\n",
    "    (\"ai\", \"{answer}\"),\n",
    "]\n",
    "\n",
    "example_prompt = ChatPromptTemplate.from_messages(template)\n",
    "\n",
    "fewshot_chat_prompt = FewShotChatMessagePromptTemplate(\n",
    "    example_prompt=example_prompt,\n",
    "    examples=examples,\n",
    ")\n",
    "\n",
    "prompt = ChatPromptTemplate.from_messages(\n",
    "    [\n",
    "        (\n",
    "            \"system\",\n",
    "            \"You are a movie expert. Provide accurate 3 emogi images about movies when asked.\",\n",
    "        ),\n",
    "        fewshot_chat_prompt,\n",
    "        MessagesPlaceholder(variable_name=\"history\"),\n",
    "        (\"human\", \"{question}\"),\n",
    "    ]\n",
    ")\n",
    "\n",
    "\n",
    "# '_' 는 이전에 반환한 값을 의미한다.\n",
    "def load_memory(_):\n",
    "    # print(_)\n",
    "    return memory.load_memory_variables({})[\"history\"]\n",
    "\n",
    "\n",
    "chain = RunnablePassthrough.assign(history=load_memory) | prompt | llm\n",
    "\n",
    "\n",
    "def invoke_chain(question):\n",
    "    result = chain.invoke({\"question\": question})\n",
    "\n",
    "    memory.save_context(\n",
    "        {\"input\": question},\n",
    "        {\"output\": str(result.content)},\n",
    "    )\n",
    "    print(result)\n",
    "\n",
    "\n",
    "invoke_chain(\"What do you know about the movie the lion king.\")"
   ]
  },
  {
   "cell_type": "code",
   "execution_count": 25,
   "metadata": {},
   "outputs": [
    {
     "name": "stdout",
     "output_type": "stream",
     "text": [
      "content='Star Wars -> ⭐️🌌🚀'\n"
     ]
    }
   ],
   "source": [
    "invoke_chain(\"What do you know about the movie star wars.\")"
   ]
  },
  {
   "cell_type": "code",
   "execution_count": 28,
   "metadata": {},
   "outputs": [
    {
     "name": "stdout",
     "output_type": "stream",
     "text": [
      "content='Matrix -> 💻🕶️💥'\n"
     ]
    }
   ],
   "source": [
    "invoke_chain(\"What do you know about the movie the Matrix\")"
   ]
  },
  {
   "cell_type": "code",
   "execution_count": 27,
   "metadata": {},
   "outputs": [
    {
     "name": "stdout",
     "output_type": "stream",
     "text": [
      "content='The last movie you asked me about was \"Matrix.\"'\n"
     ]
    }
   ],
   "source": [
    "invoke_chain(\"What was the title of the last movie I asked you about?\")"
   ]
  }
 ],
 "metadata": {
  "kernelspec": {
   "display_name": "ngpt",
   "language": "python",
   "name": "python3"
  },
  "language_info": {
   "codemirror_mode": {
    "name": "ipython",
    "version": 3
   },
   "file_extension": ".py",
   "mimetype": "text/x-python",
   "name": "python",
   "nbconvert_exporter": "python",
   "pygments_lexer": "ipython3",
   "version": "3.11.8"
  }
 },
 "nbformat": 4,
 "nbformat_minor": 2
}
