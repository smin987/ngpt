{
 "cells": [
  {
   "cell_type": "markdown",
   "metadata": {},
   "source": [
    "#### EX 4.5 Caching  \n",
    "\n",
    "1. Caching을 사용하면 LLM(언어모델)의 응답을 저장할 수 있다.  \n",
    "-  채팅봇이 항상 같은 질문을 받는다면 계속 답변을 만들지 않고, 이미 답변한 문장을 caching을 이용해서 저장하여 재사용 한다. \n",
    "* 주의 : Caching을 하는 경우 kernel을 restart 하면 caching 데이터가 사라진다.\n",
    "2. caching 데이터를 보존하기 위해 DB에 caching 해보자\n",
    "\n",
    "[관련 패키지]\n",
    "> from langchain.globals import set_llm_cache, set_debug(로그를 출력)\n",
    "> from langchain.cache import InMemoryCache, SQLiteCache\n",
    "\n",
    "진행상황에 대한 로그를 출력  \n",
    "> set_debug(True)\n",
    "\n",
    "* LLMs Caching 관련, 다양한 적용방법에 대한 예제는 아래의 링크를 참조\n",
    "https://python.langchain.com/docs/integrations/llms/llm_caching"
   ]
  },
  {
   "cell_type": "code",
   "execution_count": null,
   "metadata": {},
   "outputs": [
    {
     "data": {
      "text/plain": [
       "\"To make Italian pasta, you will need the following ingredients:\\n\\n- 2 cups of all-purpose flour\\n- 2 large eggs\\n- 1/2 teaspoon of salt\\n- Water (if needed)\\n\\nHere's a step-by-step guide to making Italian pasta:\\n\\n1. On a clean surface or in a large mixing bowl, pour the flour and create a well in the center.\\n2. Crack the eggs into the well and add the salt.\\n3. Using a fork or your fingers, gradually mix the eggs and salt into the flour, incorporating a little at a time.\\n4. Once the dough starts to come together, knead it with your hands until it forms a smooth and elastic ball. If the dough is too dry, add a little water, one tablespoon at a time, until it reaches the desired consistency. If it's too sticky, add a little more flour.\\n5. Once the dough is formed, cover it with a clean kitchen towel or plastic wrap and let it rest for about 30 minutes. This allows the gluten to relax and makes the dough easier to work with.\\n6. After resting, divide the dough into smaller portions for easier handling.\\n7. Take one portion of the dough and flatten it with your hands or a rolling pin until it's about 1/4 inch thick.\\n8. If you have a pasta machine, pass the dough through the machine's widest setting. Fold the dough in half and pass it through again. Repeat this process a few times until the dough becomes smooth and pliable.\\n9. Gradually decrease the thickness setting on the pasta machine and pass the dough through each setting, folding it in half and passing it through again, until you reach the desired thickness. Alternatively, you can continue rolling the dough with a rolling pin until it reaches the desired thickness.\\n10. Once the dough is rolled out, you can cut it into your desired pasta shape. For example, you can make fettuccine, tagliatelle, or lasagna sheets.\\n11. If making long pasta shapes like fettuccine or tagliatelle, lightly dust the pasta with flour to prevent sticking and hang it on a pasta drying rack or lay it flat on a clean surface until it's ready to be cooked.\\n12. To cook the pasta, bring a large pot of salted water to a boil. Add the pasta and cook until al dente, which means it should still have a slight bite to it. The cooking time will vary depending on the thickness and shape of the pasta, so it's best to taste it to determine when it's done.\\n13. Once cooked, drain the pasta and serve it with your favorite sauce or toppings.\\n\\nEnjoy your homemade Italian pasta!\""
      ]
     },
     "execution_count": 1,
     "metadata": {},
     "output_type": "execute_result"
    }
   ],
   "source": [
    "from langchain.chat_models import ChatOpenAI\n",
    "from langchain.callbacks import StreamingStdOutCallbackHandler\n",
    "from langchain.globals import set_llm_cache, set_debug\n",
    "from langchain.cache import InMemoryCache, SQLiteCache\n",
    "\n",
    "# 이 명령어를 사용하면 모든 response가 메모리에 저장됨\n",
    "# set_llm_cache(InMemoryCache())\n",
    "# DB에 Caching 힌디\n",
    "set_llm_cache(SQLiteCache(\"cache.db\"))\n",
    "\n",
    "chat = ChatOpenAI(\n",
    "    temperature=0.1,\n",
    "    #    streaming=True,\n",
    "    #    callbacks=[\n",
    "    #        StreamingStdOutCallbackHandler(),\n",
    "    #    ],\n",
    ")\n",
    "\n",
    "chat.predict(\"How do you make Italian pasta\")"
   ]
  },
  {
   "cell_type": "code",
   "execution_count": 2,
   "metadata": {},
   "outputs": [
    {
     "data": {
      "text/plain": [
       "\"To make Italian pasta, you will need the following ingredients:\\n\\n- 2 cups of all-purpose flour\\n- 2 large eggs\\n- 1/2 teaspoon of salt\\n- Water (if needed)\\n\\nHere's a step-by-step guide to making Italian pasta:\\n\\n1. On a clean surface or in a large mixing bowl, pour the flour and create a well in the center.\\n2. Crack the eggs into the well and add the salt.\\n3. Using a fork or your fingers, gradually mix the eggs and salt into the flour, incorporating a little at a time.\\n4. Once the dough starts to come together, knead it with your hands until it forms a smooth and elastic ball. If the dough is too dry, add a little water, one tablespoon at a time, until it reaches the desired consistency. If it's too sticky, add a little more flour.\\n5. Once the dough is formed, cover it with a clean kitchen towel or plastic wrap and let it rest for about 30 minutes. This allows the gluten to relax and makes the dough easier to work with.\\n6. After resting, divide the dough into smaller portions for easier handling.\\n7. Take one portion of the dough and flatten it with your hands or a rolling pin until it's about 1/4 inch thick.\\n8. If you have a pasta machine, pass the dough through the machine's widest setting. Fold the dough in half and pass it through again. Repeat this process a few times until the dough becomes smooth and pliable.\\n9. Gradually decrease the thickness setting on the pasta machine and pass the dough through each setting, folding it in half and passing it through again, until you reach the desired thickness. Alternatively, you can continue rolling the dough with a rolling pin until it reaches the desired thickness.\\n10. Once the dough is rolled out, you can cut it into your desired pasta shape. For example, you can make fettuccine, tagliatelle, or lasagna sheets.\\n11. If making long pasta shapes like fettuccine or tagliatelle, lightly dust the pasta with flour to prevent sticking and hang it on a pasta drying rack or lay it flat on a clean surface until it's ready to be cooked.\\n12. To cook the pasta, bring a large pot of salted water to a boil. Add the pasta and cook until al dente, which means it should still have a slight bite to it. The cooking time will vary depending on the thickness and shape of the pasta, so it's best to taste it to determine when it's done.\\n13. Once cooked, drain the pasta and serve it with your favorite sauce or toppings.\\n\\nEnjoy your homemade Italian pasta!\""
      ]
     },
     "execution_count": 2,
     "metadata": {},
     "output_type": "execute_result"
    }
   ],
   "source": [
    "chat.predict(\"How do you make Italian pasta\")"
   ]
  }
 ],
 "metadata": {
  "kernelspec": {
   "display_name": "langchain",
   "language": "python",
   "name": "python3"
  },
  "language_info": {
   "codemirror_mode": {
    "name": "ipython",
    "version": 3
   },
   "file_extension": ".py",
   "mimetype": "text/x-python",
   "name": "python",
   "nbconvert_exporter": "python",
   "pygments_lexer": "ipython3",
   "version": "3.12.3"
  }
 },
 "nbformat": 4,
 "nbformat_minor": 2
}
