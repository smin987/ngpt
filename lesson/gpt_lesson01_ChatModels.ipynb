{
 "cells": [
  {
   "attachments": {},
   "cell_type": "markdown",
   "metadata": {},
   "source": [
    "#### EX 3.0 LLMs 와 Chat Models\n",
    "1. OPENAI가 제공하는 모델 중에서 비교적 비용이 저렴한 ChatGPT 3.5 Turbo 모델을 사용하도록 세팅하는 법을 배운다.\n",
    "2. .ENV 파일에 API 키를 세팅하는 법을 배운다.\n",
    "\n",
    "*temperature(0 ~ 1) : 온도가 낮으면 답변 중 정확도가 제일 높은 값을 출력하고, 온도가 높으면 정확도가 낮아도 답변이 가능한 여러가지 답안을 출력한다. "
   ]
  },
  {
   "cell_type": "code",
   "execution_count": null,
   "metadata": {},
   "outputs": [],
   "source": [
    "from langchain_openai import ChatOpenAI\n",
    "\n",
    "llm = ChatOpenAI()\n",
    "llm.invoke(\"Hello, world!\")"
   ]
  },
  {
   "cell_type": "code",
   "execution_count": null,
   "metadata": {},
   "outputs": [],
   "source": [
    "from langchain.chat_models import ChatOpenAI\n",
    "\n",
    "\n",
    "# temperature가 0에 가까우면 교과서 적인 답을 출력하고, 1에 가까우면 창의적인 답변을 출력한다.\n",
    "\n",
    "\n",
    "chat = ChatOpenAI(temperature=0.1)"
   ]
  },
  {
   "attachments": {},
   "cell_type": "markdown",
   "metadata": {},
   "source": [
    "#### Ex 3.1 Predict Messages\n",
    "1. SystemMessage - 여기서는 AI의 직업을 정하고, 이탈리아어로만 답변하도록 설정\n",
    "2. AIMessage -  여기서는 질문을 받을시 대답할 답변의 일부를 저장 함\n",
    "3. HumanMessage - 채팅창 입력에 입력한 질문\n",
    "답변을 요청하면, AI는 이탈리아어로 영어로 물어본 질문에 답변한다.\n",
    "\n",
    "* 자세한 해석은 구글 번역기에 돌려보자"
   ]
  },
  {
   "cell_type": "code",
   "execution_count": null,
   "metadata": {},
   "outputs": [
    {
     "data": {
      "text/plain": [
       "AIMessage(content='La distanza tra il Messico e la Thailandia è di circa 16.000 chilometri. Come posso aiutarti oggi?')"
      ]
     },
     "execution_count": 3,
     "metadata": {},
     "output_type": "execute_result"
    }
   ],
   "source": [
    "from langchain.schema import HumanMessage, AIMessage, SystemMessage\n",
    "\n",
    "\n",
    "# SystemMessage는 LLM을 설정하기 위한 Message이다.\n",
    "\n",
    "\n",
    "messages = [\n",
    "    SystemMessage(\n",
    "        content=\"You are a geography expert. And you only reply in Italian.\",\n",
    "    ),\n",
    "    AIMessage(content=\"Ciao, mi chiamo Paolo!\"),\n",
    "    HumanMessage(\n",
    "        content=\"What is the distance between Mexico and Thailand. Also, what is your name?\"\n",
    "    ),\n",
    "]\n",
    "\n",
    "\n",
    "chat.predict_messages(messages)"
   ]
  },
  {
   "attachments": {},
   "cell_type": "markdown",
   "metadata": {},
   "source": [
    "#### EX 3.2 Prompt Templates \n",
    "LLM과 소통할수 있는 유일한 방법인 Prompt를 설정하는 방법을 알아본다.\n",
    "\n",
    "1. ChatPromptTemplate은 template를 메세지들로 부터 생성한다.\n",
    "2. PromptTemplate는 단지 string을 이용해서 template를 생성한다.\n",
    "* prompt engineering 은 인공지능의 역량을 발휘하도록 120% 지시어를 적합하게 내려주는 것이다. \n",
    "* 프롬프트의 표현은 '접두어 -튜닝' 또는 '프롬프트 - 튜닝' 과 같은 방법을 사용한다.(언어모델에 따라 결과가 달라질수 있다.)\n"
   ]
  },
  {
   "cell_type": "code",
   "execution_count": null,
   "metadata": {},
   "outputs": [
    {
     "data": {
      "text/plain": [
       "'The distance between Mexico and Thailand is approximately 9,500 miles (15,300 kilometers) when measured in a straight line.'"
      ]
     },
     "execution_count": 5,
     "metadata": {},
     "output_type": "execute_result"
    }
   ],
   "source": [
    "from langchain.chat_models import ChatOpenAI\n",
    "\n",
    "\n",
    "# 템플릿 추가\n",
    "from langchain.prompts import PromptTemplate, ChatPromptTemplate\n",
    "\n",
    "\n",
    "chat = ChatOpenAI(temperature=0.1)\n",
    "\n",
    "\n",
    "template = PromptTemplate.from_template(\n",
    "    \"What is the distance between {country_a} and {country_b}\",\n",
    ")\n",
    "\n",
    "prompt = template.format(country_a=\"Mexico\", country_b=\"Thailand\")\n",
    "\n",
    "\n",
    "chat.predict(prompt)"
   ]
  },
  {
   "cell_type": "code",
   "execution_count": null,
   "metadata": {},
   "outputs": [
    {
     "data": {
      "text/plain": [
       "AIMessage(content='Γεια σας! Η απόσταση μεταξύ του Μεξικού και της Ταϊλάνδης είναι περίπου 16.000 χιλιόμετρα. Το όνομά μου είναι Σωκράτης. Πώς μπορώ να βοηθήσω;')"
      ]
     },
     "execution_count": 6,
     "metadata": {},
     "output_type": "execute_result"
    }
   ],
   "source": [
    "template = ChatPromptTemplate.from_messages(\n",
    "    [\n",
    "        (\"system\", \"You are a geography expert. And you only reply in {language}.\"),\n",
    "        (\"ai\", \"Ciao, mi chiamo {name}!\"),\n",
    "        (\n",
    "            \"human\",\n",
    "            \"What is the distance between {country_a} and {country_b}. Also, what is your name?\",\n",
    "        ),\n",
    "    ]\n",
    ")\n",
    "\n",
    "\n",
    "# 작성한 template를 prompt로 정한다.\n",
    "prompt = template.format_messages(\n",
    "    language=\"Greek\", name=\"Socrates\", country_a=\"Mexico\", country_b=\"Thailand\"\n",
    ")\n",
    "\n",
    "\n",
    "# chat(chatGPT API)를 호출해서 질의에 대한 결과를 반환받는다.\n",
    "chat.predict_messages(prompt)"
   ]
  }
 ],
 "metadata": {
  "kernelspec": {
   "display_name": "ngpt",
   "language": "python",
   "name": "python3"
  },
  "language_info": {
   "codemirror_mode": {
    "name": "ipython",
    "version": 3
   },
   "file_extension": ".py",
   "mimetype": "text/x-python",
   "name": "python",
   "nbconvert_exporter": "python",
   "pygments_lexer": "ipython3",
   "version": "3.11.11"
  },
  "orig_nbformat": 4
 },
 "nbformat": 4,
 "nbformat_minor": 2
}
