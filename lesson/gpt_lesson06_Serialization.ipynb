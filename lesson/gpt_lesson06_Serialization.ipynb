{
 "cells": [
  {
   "cell_type": "markdown",
   "metadata": {},
   "source": [
    "#### EX 4.6 Serialization\n",
    "\n",
    "1. OpenAI 모델을 사용할 때 우리가 지출하는 비용을 아는 방법을 배운다.\n",
    "\n",
    "- 관련 패키지\n",
    "  > from langchain.callbacks import get_openai_callback\n"
   ]
  },
  {
   "cell_type": "code",
   "execution_count": 2,
   "metadata": {},
   "outputs": [
    {
     "name": "stdout",
     "output_type": "stream",
     "text": [
      "Here is a simple recipe for making soju at home:\n",
      "\n",
      "Ingredients:\n",
      "- 1 cup of rice\n",
      "- 1 cup of nuruk (Korean fermentation starter)\n",
      "- 10 cups of water\n",
      "- 1 tablespoon of yeast (optional, for faster fermentation)\n",
      "- Sugar (optional, for sweetening)\n",
      "\n",
      "Instructions:\n",
      "1. Rinse the rice thoroughly until the water runs clear.\n",
      "2. Soak the rice in water for about 1 hour.\n",
      "3. Drain the rice and transfer it to a large pot.\n",
      "4. Add 10 cups of water to the pot and bring it to a boil.\n",
      "5. Reduce the heat to low and simmer the rice for about 30 minutes, or until it becomes soft and mushy.\n",
      "6. Remove the pot from heat and let it cool down to room temperature.\n",
      "7. Once the rice has cooled, transfer it to a large fermentation container.\n",
      "8. Add the nuruk to the container and mix it well with the rice.\n",
      "9. Cover the container with a clean cloth or plastic wrap and let it ferment for about 7-10 days at room temperature.\n",
      "10. Stir the mixture every day to ensure even fermentation.\n",
      "11. After the fermentation period, strain the mixture through a cheesecloth or fine mesh strainer to remove any solids.\n",
      "12. If desired, add sugar to sweeten the soju. The amount of sugar can vary depending on personal preference.\n",
      "13. Transfer the strained liquid to a clean bottle or jar and seal it tightly.\n",
      "14. Let the soju age for at least 1-2 weeks in a cool, dark place before consuming.\n",
      "15. Serve the homemade soju chilled and enjoy responsibly.\n",
      "\n",
      "Please note that making soju at home requires proper knowledge of fermentation and alcohol production. It is important to follow safety guidelines and local regulations regarding homemade alcohol. Here is a basic recipe for making bread:\n",
      "\n",
      "Ingredients:\n",
      "- 4 cups all-purpose flour\n",
      "- 2 teaspoons active dry yeast\n",
      "- 2 teaspoons salt\n",
      "- 2 tablespoons sugar\n",
      "- 2 tablespoons vegetable oil\n",
      "- 1 ½ cups warm water (around 110°F/43°C)\n",
      "\n",
      "Instructions:\n",
      "1. In a large mixing bowl, combine the warm water and sugar. Stir until the sugar is dissolved. Sprinkle the yeast over the water and let it sit for about 5 minutes until it becomes foamy.\n",
      "\n",
      "2. Add the flour, salt, and vegetable oil to the bowl with the yeast mixture. Mix everything together until a dough forms.\n",
      "\n",
      "3. Transfer the dough onto a floured surface and knead it for about 10 minutes until it becomes smooth and elastic. You can also use a stand mixer with a dough hook attachment for this step.\n",
      "\n",
      "4. Place the dough in a greased bowl and cover it with a clean kitchen towel or plastic wrap. Let it rise in a warm place for about 1-2 hours, or until it doubles in size.\n",
      "\n",
      "5. Once the dough has risen, punch it down to release any air bubbles. Transfer it back to the floured surface and shape it into a loaf or desired shape.\n",
      "\n",
      "6. Place the shaped dough onto a greased or parchment-lined baking sheet. Cover it again and let it rise for another 30-45 minutes.\n",
      "\n",
      "7. Preheat your oven to 375°F (190°C). Optionally, you can brush the top of the bread with milk or beaten egg for a shiny crust.\n",
      "\n",
      "8. Bake the bread in the preheated oven for about 30-35 minutes, or until it turns golden brown and sounds hollow when tapped on the bottom.\n",
      "\n",
      "9. Remove the bread from the oven and let it cool on a wire rack before slicing and serving.\n",
      "\n",
      "Enjoy your homemade bread! \n",
      "\n",
      "Tokens Used: 780\n",
      "\tPrompt Tokens: 27\n",
      "\tCompletion Tokens: 753\n",
      "Successful Requests: 2\n",
      "Total Cost (USD): $0.0015465000000000001\n"
     ]
    }
   ],
   "source": [
    "from langchain.chat_models import ChatOpenAI\n",
    "from langchain.callbacks import get_openai_callback\n",
    "\n",
    "\n",
    "chat = ChatOpenAI(\n",
    "    temperature=0.1,\n",
    ")\n",
    "\n",
    "with get_openai_callback() as usage:\n",
    "    # 이부분에 넣는 코드는 usage에 포함되어 출력한다\n",
    "    a = chat.predict(\"What is the recipe for soju\")\n",
    "    b = chat.predict(\"What is the recipe for bread\")\n",
    "    # 여기까지..\n",
    "    print(a, b, \"\\n\")\n",
    "    print(usage)  # 사용비용을 출력한다.\n",
    "    # usage.total_cost\n",
    "    #      .completion_tokens\n",
    "    #      .prompt_tokens 등등 확인하고 싶은 내용을 선택할수 있다."
   ]
  },
  {
   "cell_type": "markdown",
   "metadata": {},
   "source": [
    "2. 모델을 어떻게 저장하고 불러오는지에 대한 일련의 작업을 배운다.\n",
    "   llm 중에서 적용하고 싶은 모델을 직접 입력하여 설정한다.  \n",
    "    a. 세팅값을 .json으로 저장한다\n",
    "   b. load_llm으로 Config파일(.json)에 지정한 llm 모델을 직접 불러온다\n",
    "\n",
    "- 관련패키지\n",
    "  > from langchain.llms.openai import OpenAI  \n",
    "  > from langchain.llms.loading import load_llm\n"
   ]
  },
  {
   "cell_type": "code",
   "execution_count": null,
   "metadata": {},
   "outputs": [],
   "source": [
    "from langchain.chat_models import ChatOpenAI\n",
    "from langchain.llms.openai import OpenAI\n",
    "from langchain.llms.loading import load_llm\n",
    "\n",
    "# llm 적용된 모델을 Config 파일에서 불러온다.\n",
    "chat = load_llm(\"model.json\")\n",
    "\n",
    "# llm 중 적용하고 싶은 모델을 입력한다\n",
    "# chat = OpenAI(temperature=0.1, max_tokens=450, model=\"get-3.5-turbo-16k\")\n",
    "# 설정한 기본 값을 model.json 파일로 저장한다. 미설정 값은 기본값으로 자동 설정됨\n",
    "# chat.save(\"model.json\")\n",
    "chat"
   ]
  }
 ],
 "metadata": {
  "kernelspec": {
   "display_name": "langchain",
   "language": "python",
   "name": "python3"
  },
  "language_info": {
   "name": "python",
   "version": "3.12.3"
  }
 },
 "nbformat": 4,
 "nbformat_minor": 2
}
