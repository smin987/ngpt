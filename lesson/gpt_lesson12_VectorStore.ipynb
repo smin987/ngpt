{
 "cells": [
  {
   "cell_type": "markdown",
   "metadata": {},
   "source": [
    "#### EX 6.3 Vectors\n",
    "\n",
    "1. Embed\n",
    "   - 사람이 읽는 텍스트를 컴퓨터가 이해할 수 있는 숫자들로 변환하는 작업\n",
    "   - OpenAI에서는 최대 1,000차원의 Vector 값을 제공하지만 우리는 3차원만 사용해서 embed 한다\n",
    "   - 자세한 설명은 아래의 영상 url 참조  \n",
    "     https://nomadcoders.co/fullstack-gpt/lectures/4575\n",
    "\n",
    "- YouTube 참고\n",
    "  https://www.youtube.com/watch?v=2eWuYf-aZE4\n"
   ]
  },
  {
   "cell_type": "markdown",
   "metadata": {},
   "source": [
    "#### Ex 6.4 Vector Store\n",
    "\n",
    "2. Embeding (embed 실행시 비용발생)\n",
    "   - Splitter로 분할한 문서를 OpenAI에서 제공하는 embeding 모델을 적용하여 문서를 embed 하자\n",
    "   - Embeding 한 문서를 로컬 vector store에 저장해서 재활용하도록 한다. (비용을 아끼자.)\n",
    "   - 여기서는 오픈소스인 Chroma를 사용한다.\n",
    "   - Chroma에 분할한 문서와 openAI embeding model을 전달하자\n",
    "     - OpenAI의 embeding은 text-embedding-ada-002 model을 사용한다.(가성비 짱)\n",
    "\n",
    "- Vector Store 중 유명한 것은 pinecone이 있다\n"
   ]
  },
  {
   "cell_type": "code",
   "execution_count": 3,
   "metadata": {},
   "outputs": [],
   "source": [
    "from langchain.chat_models import ChatOpenAI\n",
    "from langchain.document_loaders import UnstructuredFileLoader\n",
    "from langchain.text_splitter import CharacterTextSplitter\n",
    "from langchain.embeddings import OpenAIEmbeddings, CacheBackedEmbeddings\n",
    "from langchain.vectorstores import Chroma\n",
    "from langchain.storage import LocalFileStore\n",
    "\n",
    "cache_dir = LocalFileStore(\"./.cache/\")\n",
    "\n",
    "# separator를 사용하면 특정 문자열을 지정하여 문장을 분할할수 있다.\n",
    "splitter = CharacterTextSplitter.from_tiktoken_encoder(\n",
    "    separator=\"\\n\",\n",
    "    chunk_size=600,  # 최대 글자 개수\n",
    "    chunk_overlap=100,\n",
    ")\n",
    "\n",
    "loader = UnstructuredFileLoader(\"./files/chapter_one.docx\")\n",
    "\n",
    "docs = loader.load_and_split(text_splitter=splitter)\n",
    "\n",
    "embeddings = OpenAIEmbeddings()\n",
    "\n",
    "# .cache에 저장된 embedding문서가 있으면 cache값을 읽어오고, 없으면 cache를 새로 만든다.\n",
    "cached_embaddings = CacheBackedEmbeddings.from_bytes_store(embeddings, cache_dir)\n",
    "\n",
    "vectorstore = Chroma.from_documents(docs, cached_embaddings)"
   ]
  }
 ],
 "metadata": {
  "kernelspec": {
   "display_name": "pjgpt",
   "language": "python",
   "name": "python3"
  },
  "language_info": {
   "codemirror_mode": {
    "name": "ipython",
    "version": 3
   },
   "file_extension": ".py",
   "mimetype": "text/x-python",
   "name": "python",
   "nbconvert_exporter": "python",
   "pygments_lexer": "ipython3",
   "version": "3.11.6"
  }
 },
 "nbformat": 4,
 "nbformat_minor": 2
}
