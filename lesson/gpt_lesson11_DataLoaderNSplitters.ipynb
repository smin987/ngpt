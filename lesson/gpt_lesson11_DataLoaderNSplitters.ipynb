{
 "cells": [
  {
   "cell_type": "markdown",
   "metadata": {},
   "source": [
    "### EX 5.8 DataLoaderNSplitters\n",
    "\n",
    "문서의 내용을 분할하여 많은 내용을 순차적으로 LLM에게 읽을 수있도록 하는 작업\n",
    "문서 파일을 읽고, 문서의 내용을 어떤 기준으로 쪼갤지 정하면,문서의 내용이 일정한 규칙으로 분할된다.\n",
    "이렇게 문서를 분할 하면 LLM이 문서를 찾을 때 필요한 조각만 기억하면 되기 때문에 효율적이다.(*많은 내용을 처리할수록 비용이 올라간다.)\n",
    "\n",
    "해당 작업을 위한 도구들을 살펴보고, 문서 파일을 쪼개서 chatAI에게 학습시킨다.\n",
    "문서에 대한 내용을 질의 하여 올바르게 응답하고 있는지 확인해보자.\n",
    "\n",
    "* RetrievalQA를 사용하여 문서에 대한 RAG작업을 요청한다."
   ]
  },
  {
   "cell_type": "code",
   "execution_count": 5,
   "metadata": {},
   "outputs": [
    {
     "data": {
      "text/plain": [
       "'Victory Mansions is a residential building where Winston Smith lives in the novel \"1984.\" It is described as having a hallway that smells of boiled cabbage and old rag mats. The building has a lift that is usually not working, and the electric current is cut off during daylight hours as part of an economy drive for Hate Week. The flat where Winston lives is on the seventh floor and is characterized by a gritty and impoverished environment. The building is adorned with a colored poster depicting the face of a man with a caption that reads \"BIG BROTHER IS WATCHING YOU.\"'"
      ]
     },
     "execution_count": 5,
     "metadata": {},
     "output_type": "execute_result"
    }
   ],
   "source": [
    "from langchain.chat_models import ChatOpenAI\n",
    "from langchain.document_loaders import UnstructuredFileLoader\n",
    "from langchain.text_splitter import CharacterTextSplitter\n",
    "from langchain.embeddings import OpenAIEmbeddings, CacheBackedEmbeddings\n",
    "from langchain.vectorstores import FAISS\n",
    "from langchain.storage import LocalFileStore\n",
    "from langchain.chains import RetrievalQA\n",
    "\n",
    "llm = ChatOpenAI()\n",
    "\n",
    "cache_dir = LocalFileStore(\"./.cache/\")\n",
    "\n",
    "splitter = CharacterTextSplitter.from_tiktoken_encoder(\n",
    "    separator=\"\\n\",\n",
    "    chunk_size=600,\n",
    "    chunk_overlap=100,\n",
    ")\n",
    "loader = UnstructuredFileLoader(\"./files/chapter_one.txt\")\n",
    "# loader = UnstructuredFileLoader(\"./files/document.txt\")\n",
    "\n",
    "docs = loader.load_and_split(text_splitter=splitter)\n",
    "\n",
    "embeddings = OpenAIEmbeddings()\n",
    "\n",
    "cached_embeddings = CacheBackedEmbeddings.from_bytes_store(embeddings, cache_dir)\n",
    "\n",
    "vectorstore = FAISS.from_documents(docs, cached_embeddings)\n",
    "\n",
    "chain = RetrievalQA.from_chain_type(\n",
    "    llm=llm,\n",
    "    chain_type=\"stuff\",\n",
    "    retriever=vectorstore.as_retriever(),\n",
    ")\n",
    "\n",
    "chain.run(\"Describe Victory Mansions\")"
   ]
  }
 ],
 "metadata": {
  "kernelspec": {
   "display_name": "ngpt",
   "language": "python",
   "name": "python3"
  },
  "language_info": {
   "codemirror_mode": {
    "name": "ipython",
    "version": 3
   },
   "file_extension": ".py",
   "mimetype": "text/x-python",
   "name": "python",
   "nbconvert_exporter": "python",
   "pygments_lexer": "ipython3",
   "version": "3.11.8"
  }
 },
 "nbformat": 4,
 "nbformat_minor": 2
}
