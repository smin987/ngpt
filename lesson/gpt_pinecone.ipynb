{
 "cells": [
  {
   "cell_type": "code",
   "execution_count": 10,
   "metadata": {},
   "outputs": [
    {
     "data": {
      "text/plain": [
       "[Document(page_content=': 1213\\nhref: https://simple-veganista.com/healthy-chickpea-vegetable-pasta-salad/\\ntitle: QUICK N’ HEALTHY VEGGIE PASTA SALAD\\ningredients: Ingredients\\n\\n\\n\\nScale\\n1x2x3x \\n\\n\\n\\n\\n16 oz. bowtie pasta (or your favorite small pasta)\\n1 cucumber, diced\\n1 red bell pepper, cored and diced\\n1 orange bell pepper, cored and diced\\n1 yellow bell pepper, cored and diced\\n4 oz. cherry tomatoes, sliced in half\\n1 can (15 oz.) chickpeas (garbanzo beans), drained and rinsed\\n\\nZesty Garlic Lemon Dressing\\n\\n4 large garlic cloves, minced\\njuice of 2 lemons (about 1/4 – 1/3 cup)\\n2 tablespoons dijon mustard\\n1 – 2 tablespoons olive oil\\nmineral salt & fresh cracked pepper, to taste\\npreparation: Instructions\\n\\n\\nPasta: Cook the pasta according to package directions.\\nDressing: In a small bowl, whisk together garlic, lemon juice, dijon, oil, salt, and pepper. Set aside.\\nAssemble salad: Once veggies are prepped, using either a large mixing or serving bowl, or pot the pasta was cooked in, combine the pasta, veggies and dressing, toss well to coat.\\nChill: Place in the refrigerator to chill for a few hours or enjoy as is.\\nServe: Spoon into individual bowls and top with a squeeze of lemon and/or a light dusting of Almond Parmesan. Enjoy the simples!\\nServes 6 – 8\\nStore: Leftovers can be stored in an airtight container in the fridge for up to 5 – 6 days. This is a great salad for a pot-luck or family/work gathering. Can be made 1 – 2 days in advance.', metadata={'row': 1213.0, 'source': '../files/recipes.csv'}),\n",
       " Document(page_content=': 965\\nhref: https://simple-veganista.com/greek-pasta-salad-easy-healthy/\\ntitle: GREEK PASTA SALAD (EASY + HEALTHY)\\ningredients: Ingredients\\n\\n\\n\\nUnits\\nUSM \\n\\nScale\\n1x2x3x \\n\\n\\n\\n\\n16 oz. small pasta (macaroni, elbow, rotini, penne)\\n10 oz. jar kalamata olives, pitted (use whole or sliced)\\n1 can (15 oz) chickpeas, drained and rinsed\\n1/2 red onion, diced\\n1 large red bell pepper, cored and diced\\n1 cucumber (regular or English), diced\\n10 oz. grape tomatoes, sliced in half\\n1/4 cup fresh parsley, chopped\\n1 tablespoon fresh oregano, chopped\\n2 tablespoons extra virgin olive oil (lemon infused pref.), optional\\n2 lemons\\nsalt + pepper\\nvegan feta (I used Violife), crumbled or cubed (optional)\\npreparation: Instructions\\n\\n\\nPasta: Cook the pasta, al dente, according to package directions. Once cooked, rinse well under cool running water to keep the pasta from overcooking.\\nAssemble: In the pot the pasta was cooked in (or a large serving dish), add the pasta, olives, chickpeas, onion, red bell pepper, cucumber, tomatoes, parsley, oregano, salt, pepper, and squeeze of lemon and drizzle of oil, toss well to combine. Add vegan feta, toss again or leave as is. Taste for flavor, adding more salt, pepper, lemon or herbs.\\nServes 6 – 8\\nStore: Leftovers can be stored in the refrigerator for up to 5 – 6 days, in a covered container.', metadata={'row': 965.0, 'source': '../files/recipes.csv'}),\n",
       " Document(page_content=': 1340\\nhref: https://simple-veganista.com/rawsta-pasta/\\ntitle: RAW SPAGHETTI + VEGETABLE PASTA\\ningredients: Ingredients\\n\\n\\n\\nScale\\n1x2x3x \\n\\n\\n\\n\\n1 large zucchini, spiralized or julienned\\n1 large cucumber, spiralized or julienned\\n1 cup mushrooms, diced\\n1/2 each red & yellow bell pepper, diced\\n1 – 2 carrots, diced\\n1 – 2 scallions, sliced\\nfresh chopped basil or parsley (optional)\\nmineral salt & cracked pepper, to taste\\nred pepper flakes, to serve\\n1 batch Raw Marinara Sauce\\npreparation: Instructions\\n\\n\\nVegetable Noodles: Spiralize the zucchini and cucumber, set aside. You can also julienne by hand or use a julienne tool, but the spiralizer (affiliate link) is really fun and easy. I highly recommend having one if you make raw noodles often.\\nPrep veggies: Dice up your veggies, using as much as you like. \\nAssemble: You can either mix everything together in a separate bowl and transfer to individual serving dishes, or you can serve and mix right in your serving dish. \\nTop with sliced green onions, fresh herbs of choice, mineral salt & cracked pepper to taste. It’s extra Aaamazing topped with a dusting of Almond Parmesan!\\nServes 2', metadata={'row': 1340.0, 'source': '../files/recipes.csv'}),\n",
       " Document(page_content=': 1329\\nhref: https://simple-veganista.com/lazy-pasta/\\ntitle: QUICK + EASY VEGETABLE SPAGHETTI\\ningredients: Ingredients\\n\\n\\n\\nScale\\n1x2x3x \\n\\n\\n\\n\\n1 tablespoon olive oil\\n1 onion, thinly sliced\\n2 – 3 garlic cloves, minced\\n8 oz. mushrooms, sliced (I used baby bella)\\n1 medium zucchini, thinly sliced and cut in half\\n1 medium yellow squash, thinly sliced and cut in half\\n1 can (28 oz.) diced tomatoes, with juices\\n1 teaspoon dried oregano\\n1/2 teaspoon red pepper flakes\\nmineral salt & cracked pepper to taste\\n2 handfuls of spinach, or baby greens of choice\\n8 oz. pasta of choice (I used quinoa linguini pasta)\\nalmond parmesan, to serve\\npreparation: Instructions\\n\\n\\nPasta: Cook your pasta of choice according to package directions. Set aside.\\nVegetables: In a large flat bottom pan, heat oil on medium high, add mushrooms, zucchini, onion, garlic and spices, cook for about 8 – 10 minutes, or until mushrooms and zucchini are tender, stirring frequently. Add tomatoes and cook until heated through. Stir in spinach and let wilt. Taste for seasoning.\\nAssemble: Serve veggies over a bed of pasta with a good dusting of almond parmesan.\\nServes 3\\nStore: Leftovers can be kept in the refrigerator for up to 5- 6 days, in a covered container.', metadata={'row': 1329.0, 'source': '../files/recipes.csv'})]"
      ]
     },
     "execution_count": 10,
     "metadata": {},
     "output_type": "execute_result"
    }
   ],
   "source": [
    "import pinecone\n",
    "import os\n",
    "# from langchain.document_loaders import CSVLoader\n",
    "# from langchain.text_splitter import RecursiveCharacterTextSplitter\n",
    "from langchain.embeddings import OpenAIEmbeddings\n",
    "from langchain.vectorstores import Pinecone\n",
    "\n",
    "pinecone.init(\n",
    "    api_key=os.getenv(\"PINECONE_API_KEY\"), \n",
    "    environment=\"gcp-starter\",\n",
    "    )\n",
    "\n",
    "# splitter = RecursiveCharacterTextSplitter.from_tiktoken_encoder()\n",
    "\n",
    "# loader = CSVLoader(\"../files/recipes.csv\")\n",
    "\n",
    "# docs = loader.load_and_split(text_splitter=splitter)\n",
    "\n",
    "embeddings = OpenAIEmbeddings()\n",
    "\n",
    "# vectorstore = Pinecone.from_documents(docs, embeddings, index_name=\"recipes\")\n",
    "vectorstore = Pinecone.from_existing_index(\n",
    "    \"recipes\", \n",
    "    embeddings, \n",
    "    )\n",
    "\n",
    "docs = vectorstore.similarity_search(\"pasta\")\n",
    "\n",
    "docs"
   ]
  }
 ],
 "metadata": {
  "kernelspec": {
   "display_name": "pjgpt",
   "language": "python",
   "name": "python3"
  },
  "language_info": {
   "codemirror_mode": {
    "name": "ipython",
    "version": 3
   },
   "file_extension": ".py",
   "mimetype": "text/x-python",
   "name": "python",
   "nbconvert_exporter": "python",
   "pygments_lexer": "ipython3",
   "version": "3.11.8"
  }
 },
 "nbformat": 4,
 "nbformat_minor": 2
}
